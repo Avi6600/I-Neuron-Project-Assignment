{
 "cells": [
  {
   "cell_type": "markdown",
   "id": "f0018bbe",
   "metadata": {},
   "source": [
    "## 1. What advantages do Excel spreadsheets have over CSV spreadsheets? "
   ]
  },
  {
   "cell_type": "markdown",
   "id": "64a66a0f",
   "metadata": {},
   "source": [
    "* It is a binary file that holds information about all the worksheets in a workbook\n",
    "* An Excel not only stores data but can also do operations on the data\n",
    "* Files saved in excel cannot be opened or edited by text editors\n",
    "* large files user is much easier in Excel for the end user. Also, you can have additional functions like selecting individual     cells for import, convert dates and time automatically, reading formulas and their results, filters, sorting, etc\n",
    "* Apart from text, data can also be stored in form of charts and graphs\n",
    "* Excel can connect to external data sources to fetch data. You can use custom add-in in Excel to increase its functionality.\n",
    "* Excel allows for Review of Data with detailed tracking and commenting feature\n",
    "* In Excel, spreadsheets can have values of data types other than strings; cells can have different fonts, sizes, or color         settings; cells can have varying widths and heights; adjacent cells can be merged"
   ]
  },
  {
   "cell_type": "markdown",
   "id": "26c748c3",
   "metadata": {},
   "source": [
    "## 2.What do you pass to csv.reader() and csv.writer() to create reader and writer objects?"
   ]
  },
  {
   "cell_type": "code",
   "execution_count": 27,
   "id": "0e0dc922",
   "metadata": {},
   "outputs": [
    {
     "data": {
      "text/plain": [
       "[['ï»¿Name', 'Age', 'Department', 'DOB'],\n",
       " ['Abhishek Bharti', '26', 'Data Analyst', '21-02-1997']]"
      ]
     },
     "execution_count": 27,
     "metadata": {},
     "output_type": "execute_result"
    }
   ],
   "source": [
    "#we pass a File object, obtained from a call to open().\n",
    "import csv\n",
    "file_csv = open(r'C:\\Users\\Sarvo\\Desktop\\Somu.csv')\n",
    "filereader = csv.reader(file_csv)\n",
    "fileData = list(filereader)\n",
    "fileData"
   ]
  },
  {
   "cell_type": "markdown",
   "id": "8fb4dbbe",
   "metadata": {},
   "source": [
    "## 3. What modes do File objects for reader and writer objects need to be opened in?"
   ]
  },
  {
   "cell_type": "markdown",
   "id": "c9c34b58",
   "metadata": {},
   "source": [
    "Ans-- File objects need to be opened in read-binary ('rb') for Reader objects and write-binary ('wb') for Writer objects"
   ]
  },
  {
   "cell_type": "markdown",
   "id": "4ae85807",
   "metadata": {},
   "source": [
    "## 4. What method takes a list argument and writes it to a CSV file?\n"
   ]
  },
  {
   "cell_type": "markdown",
   "id": "3687c602",
   "metadata": {},
   "source": [
    "Ans--  csv.writer class provides two methods for writing to CSV. They are writerow() and writerows(). writerow() method writes a        single row at a time. Whereas writerows() method is used to write multiple rows at a time."
   ]
  },
  {
   "cell_type": "code",
   "execution_count": 28,
   "id": "cd53c348",
   "metadata": {},
   "outputs": [],
   "source": [
    "# Example Program\n",
    "import csv      \n",
    "fields = ['Name', 'Branch', 'Year', 'CGPA'] #column names \n",
    "rows = [ \n",
    "            ['Nikhil', 'COE', '2', '9.0'],  # data rows of csv file \n",
    "            ['Sanchit', 'COE', '2', '9.1'], \n",
    "            ['Ravi', 'IT', '2', '9.3']\n",
    "       ] \n",
    "with open(\"university_records.csv\", 'w') as csvfile: \n",
    "    csvwriter = csv.writer(csvfile) # creating a csv writer object \n",
    "    csvwriter.writerow(fields) # writing the fields \n",
    "    csvwriter.writerows(rows) # writing the data rows "
   ]
  },
  {
   "cell_type": "markdown",
   "id": "ba051982",
   "metadata": {},
   "source": [
    "## 6. What function takes a string of JSON data and returns a Python data structure?\n"
   ]
  },
  {
   "cell_type": "code",
   "execution_count": null,
   "id": "9a082cdb",
   "metadata": {},
   "outputs": [],
   "source": [
    "json.loads()"
   ]
  },
  {
   "cell_type": "markdown",
   "id": "25a1c531",
   "metadata": {},
   "source": []
  }
 ],
 "metadata": {
  "kernelspec": {
   "display_name": "Python 3 (ipykernel)",
   "language": "python",
   "name": "python3"
  },
  "language_info": {
   "codemirror_mode": {
    "name": "ipython",
    "version": 3
   },
   "file_extension": ".py",
   "mimetype": "text/x-python",
   "name": "python",
   "nbconvert_exporter": "python",
   "pygments_lexer": "ipython3",
   "version": "3.9.12"
  }
 },
 "nbformat": 4,
 "nbformat_minor": 5
}
