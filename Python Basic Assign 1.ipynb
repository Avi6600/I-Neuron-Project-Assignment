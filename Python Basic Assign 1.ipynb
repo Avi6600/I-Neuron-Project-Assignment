{
 "cells": [
  {
   "cell_type": "markdown",
   "id": "41e9b93f",
   "metadata": {},
   "source": [
    "## 1. In the below elements which of them are values or an expression? eg:- values can be integer or string and expressions will be mathematical operators.\n",
    "\n",
    "  * \n",
    "   'hello'\n",
    "    -87.8\n",
    "    - \n",
    "    / \n",
    "\n",
    "    6 \n"
   ]
  },
  {
   "cell_type": "markdown",
   "id": "3015e387",
   "metadata": {},
   "source": [
    "Ans:\n",
    "1) * = operator\n",
    "2) 'hello'= value\n",
    "3) -87.8 = value\n",
    "4) - = operator\n",
    "5) / = operator\n",
    "6) + = operator\n",
    "7) 6 = value"
   ]
  },
  {
   "cell_type": "markdown",
   "id": "21996556",
   "metadata": {},
   "source": [
    "## 2. What is the difference between string and variable?\n"
   ]
  },
  {
   "cell_type": "markdown",
   "id": "5c3f0809",
   "metadata": {},
   "source": [
    " String :- String is a datatype .\n",
    "Variable :- Variables are containers for storing data values. For example x= \"Abhishek\" , Here x is a variable and \"Abhishek\" is a string."
   ]
  },
  {
   "cell_type": "markdown",
   "id": "beb804d2",
   "metadata": {},
   "source": [
    "## 3. Describe three different data types."
   ]
  },
  {
   "cell_type": "markdown",
   "id": "f5aff569",
   "metadata": {},
   "source": [
    "Ans:\n",
    "     Text Type = str \\\n",
    "     Numeric Types = int, float, complex \\\n",
    "     Boolean Type = bool"
   ]
  },
  {
   "cell_type": "markdown",
   "id": "220dfdbd",
   "metadata": {},
   "source": [
    "## 4. What is an expression made up of? What do all expressions do?"
   ]
  },
  {
   "cell_type": "markdown",
   "id": "b98ca08f",
   "metadata": {},
   "source": [
    "An expression is a combination of operators, variables, values. Expressions need to be evaluated .All expressions evaluate to a single value."
   ]
  },
  {
   "cell_type": "markdown",
   "id": "13392d36",
   "metadata": {},
   "source": [
    "## 5. This assignment statements, like spam = 10. What is the difference between an expression and a statement?\n"
   ]
  },
  {
   "cell_type": "markdown",
   "id": "2411047f",
   "metadata": {},
   "source": [
    "Ans. A statement does something. Statements represent an action or command e.g print statements, assignment statements. An expression is a combination of operators, variables, values. Expressions need to be evaluated. An expression is something that can be reduced to a value."
   ]
  },
  {
   "cell_type": "markdown",
   "id": "57ef9b9a",
   "metadata": {},
   "source": [
    "## 6. After running the following code, what does the variable bacon contain?\n",
    "\n",
    "   bacon = 22 \\\n",
    "   bacon + 1\n"
   ]
  },
  {
   "cell_type": "code",
   "execution_count": 3,
   "id": "66c9e37b",
   "metadata": {},
   "outputs": [
    {
     "name": "stdout",
     "output_type": "stream",
     "text": [
      "22\n"
     ]
    }
   ],
   "source": [
    "bacon = 22\n",
    "bacon + 1\n",
    "print(bacon)\n",
    "##bacon will contain 22"
   ]
  },
  {
   "cell_type": "markdown",
   "id": "4f2b7802",
   "metadata": {},
   "source": [
    "## 7. What should the values of the following two terms be?\n",
    "\n",
    "'spam' + 'spamspam' \\\n",
    "'spam' * 3\n"
   ]
  },
  {
   "cell_type": "code",
   "execution_count": 4,
   "id": "43ce1db4",
   "metadata": {},
   "outputs": [
    {
     "name": "stdout",
     "output_type": "stream",
     "text": [
      "spamspamspam\n",
      "spamspamspam\n"
     ]
    }
   ],
   "source": [
    "print('spam'+'spamspam')\n",
    "print('spam'*3)"
   ]
  },
  {
   "cell_type": "markdown",
   "id": "f1ce8d76",
   "metadata": {},
   "source": [
    "## 8. Why is eggs a valid variable name while 100 is invalid?"
   ]
  },
  {
   "cell_type": "markdown",
   "id": "2065c91f",
   "metadata": {},
   "source": [
    "According to rules in python: A variable name cannot start with a number, therefore 100 cannot be the variable naME."
   ]
  },
  {
   "cell_type": "markdown",
   "id": "6db7eda7",
   "metadata": {},
   "source": [
    "## 9. What three functions can be used to get the integer, floating-point number, or string version of a value?"
   ]
  },
  {
   "cell_type": "markdown",
   "id": "d5983266",
   "metadata": {},
   "source": [
    "Ans :- The int(), float(), and str() functions will evaluate to the integer, floating-point number, and string versions of the value passed to them.\n",
    "\n",
    "I will explain this by using a code below:"
   ]
  },
  {
   "cell_type": "code",
   "execution_count": 5,
   "id": "ebdfd2cc",
   "metadata": {},
   "outputs": [
    {
     "name": "stdout",
     "output_type": "stream",
     "text": [
      "<class 'int'>\n",
      "<class 'float'>\n",
      "<class 'str'>\n"
     ]
    }
   ],
   "source": [
    "# Converting to integer\n",
    "int_value = int(20)\n",
    "print(type(int_value))\n",
    "#Converting to float\n",
    "float_value = float(20)\n",
    "print(type(float_value ))\n",
    "#Converting to String\n",
    "string_value = str(20)\n",
    "print(type(string_value))"
   ]
  },
  {
   "cell_type": "markdown",
   "id": "d72d5742",
   "metadata": {},
   "source": [
    "## 10. Why does this expression cause an error? How can you fix it?\n",
    "\n",
    "\n",
    "'I have eaten ' + 99 + ' burritos.'\n"
   ]
  },
  {
   "cell_type": "markdown",
   "id": "f1d867ae",
   "metadata": {},
   "source": [
    "Ans :- The expression causes an error because 99 is an integer, and only strings can be concatenated to other strings with the + operator. The correct way is 'I have eaten ' + str(99) + ' burritos.'.\n",
    "\n"
   ]
  },
  {
   "cell_type": "code",
   "execution_count": null,
   "id": "f0908f8b",
   "metadata": {},
   "outputs": [],
   "source": []
  }
 ],
 "metadata": {
  "kernelspec": {
   "display_name": "Python 3 (ipykernel)",
   "language": "python",
   "name": "python3"
  },
  "language_info": {
   "codemirror_mode": {
    "name": "ipython",
    "version": 3
   },
   "file_extension": ".py",
   "mimetype": "text/x-python",
   "name": "python",
   "nbconvert_exporter": "python",
   "pygments_lexer": "ipython3",
   "version": "3.9.12"
  }
 },
 "nbformat": 4,
 "nbformat_minor": 5
}
