{
 "cells": [
  {
   "cell_type": "markdown",
   "id": "580e285a",
   "metadata": {},
   "source": [
    "## 1. To what does a relative path refer?"
   ]
  },
  {
   "cell_type": "markdown",
   "id": "00a1d571",
   "metadata": {},
   "source": [
    "Ans-- The relative path is the path to some file with respect to your current working directory (PWD)."
   ]
  },
  {
   "cell_type": "markdown",
   "id": "9995cb29",
   "metadata": {},
   "source": [
    "For example: if Absolute path to a file called stuff.txt is: C:/users/admin/docs/stuff.txt \n",
    "If my PWD is C:/users/admin/ , then the relative path to stuff.txt would be: docs/stuff.txt \\\n",
    "    \n",
    "     Note: PWD + relative path = absolute path"
   ]
  },
  {
   "cell_type": "markdown",
   "id": "7da963ec",
   "metadata": {},
   "source": [
    "## 2. What does an absolute path start with your operating system?"
   ]
  },
  {
   "cell_type": "markdown",
   "id": "25d818b7",
   "metadata": {},
   "source": [
    "Ans-- In Linux based systems the absolute path starts with /. Where as in Windows based systems absolute path starts with C:"
   ]
  },
  {
   "cell_type": "markdown",
   "id": "3e47afc8",
   "metadata": {},
   "source": [
    "## 3. What do the functions os.getcwd() and os.chdir() do?"
   ]
  },
  {
   "cell_type": "markdown",
   "id": "356ecdfc",
   "metadata": {},
   "source": [
    "Ans--     os.getcwd() method tells us the location of current working directory (CWD). \\\\\\\n",
    "          Whereas os.chdir() method in Python used to change the current working directory to specified path. These functions             are similar to linux commands pwd and cd"
   ]
  },
  {
   "cell_type": "markdown",
   "id": "a78f1bdb",
   "metadata": {},
   "source": [
    "## 4. What are the . and .. folders?"
   ]
  },
  {
   "cell_type": "markdown",
   "id": "a88b443b",
   "metadata": {},
   "source": [
    "Ans-- . Represents the Current Directory Whereas .. Represents the Parent Directory of the Current Directory\n",
    "For Example: if the below path is my absolute path:"
   ]
  },
  {
   "cell_type": "markdown",
   "id": "7d01f9ce",
   "metadata": {},
   "source": [
    "C:\\\\Users\\\\Abhishek\\\\Documents\\\\Python-Assignments\\\\Python Basic Assignment\n",
    "Then . represents the path C:\\\\Users\\\\Abhishek\\\\Documents\\\\Python-Assignment\\\\Python Basic Assignment\n",
    "Where as .. represents the path C:\\\\Users\\\\Abhishek\\\\Documents\\\\Python-Assignment"
   ]
  },
  {
   "cell_type": "markdown",
   "id": "e9859cac",
   "metadata": {},
   "source": [
    "## 5. In C:\\bacon\\eggs\\spam.txt, which part is the dir name, and which part is the base name?\n"
   ]
  },
  {
   "cell_type": "markdown",
   "id": "0bd97d12",
   "metadata": {},
   "source": [
    "Ans--      For C:\\bacon\\eggs\\spam.txt     \\\n",
    "           The dir name is C:\\\\bacon\\\\eggs \\\n",
    "           The Base name is spam.txt"
   ]
  },
  {
   "cell_type": "code",
   "execution_count": 5,
   "id": "9d675f7f",
   "metadata": {},
   "outputs": [
    {
     "name": "stdout",
     "output_type": "stream",
     "text": [
      "C:\\bacon\\eggs\n",
      "spam.txt\n"
     ]
    }
   ],
   "source": [
    "import os\n",
    "path = r'C:\\bacon\\eggs\\spam.txt'\n",
    "print(os.path.dirname(path))\n",
    "print(os.path.basename(path))"
   ]
  },
  {
   "cell_type": "markdown",
   "id": "93805f1e",
   "metadata": {},
   "source": [
    "## 6. What are the three “mode” arguments that can be passed to the open() function?"
   ]
  },
  {
   "cell_type": "markdown",
   "id": "5451a1f7",
   "metadata": {},
   "source": [
    "Ans-- A file can be Accessed in python using open() function. open function takes two arguments filename and mode of operation (optional). if mode is not provided the default mode of opening is read mode\n",
    "So, the syntax being: open(filename, mode)\n",
    "\n",
    "\n",
    "* ‘r’ – Read Mode: This is the default mode for open(). The file is opened and a pointer is positioned at the beginning of the file’s content.\n",
    "\n",
    "* ‘w’ – Write Mode: Using this mode will overwrite any existing content in a file. If the given file does not exist, a new one will be created.\n",
    "\n",
    "* ‘r+’ – Read/Write Mode: Use this mode if you need to simultaneously read and write to a file\n",
    "\n",
    "* ‘a’ – Append Mode: With this mode the user can append the data without overwriting any already existing data in the file.\n",
    "\n",
    "* ‘a+’ – Append and Read Mode: In this mode you can read and append the data without overwriting the original file.\n",
    "\n",
    "* ‘x’ – Exclusive Creating Mode: This mode is for the sole purpose of creating new files. Use this mode if you know the file to be written doesn’t exist beforehand.\n"
   ]
  },
  {
   "cell_type": "markdown",
   "id": "95447178",
   "metadata": {},
   "source": [
    "## 7. What happens if an existing file is opened in write mode?"
   ]
  },
  {
   "cell_type": "markdown",
   "id": "918660ed",
   "metadata": {},
   "source": [
    "Ans--Using this mode will overwrite any existing content in a file. If the given file does not exist, a new one will be created."
   ]
  },
  {
   "cell_type": "markdown",
   "id": "c74597ad",
   "metadata": {},
   "source": [
    "## 8. How do you tell the difference between read() and readlines()?"
   ]
  },
  {
   "cell_type": "markdown",
   "id": "e318d387",
   "metadata": {},
   "source": [
    "Ans-- The main difference is that read() will read the whole file at once and then print out the first characters that take up as many bytes as you specify in the parenthesis\n",
    "\n",
    "* Whereas the readline() that will read and print out only the first characters that take up as many bytes as you specify in the parenthesis. You may want to use readline() when you're reading files that are too big for your RAM.\n",
    "\n",
    "* The read() would treat each character in the file separately, meaning that the iteration would happen for every character.\n",
    "\n",
    "* The readline() function, on the other hand, only reads a single line of the file. This means that if the first line of the file were three lines long, the readline() function would only parse (or iterate/operate) on the first line of the file."
   ]
  },
  {
   "cell_type": "markdown",
   "id": "f5f746e8",
   "metadata": {},
   "source": [
    "## 9. What data structure does a shelf value resemble?"
   ]
  },
  {
   "cell_type": "markdown",
   "id": "1ff12fa9",
   "metadata": {},
   "source": [
    "Ans-- it contains key and values it represents dictionary."
   ]
  },
  {
   "cell_type": "code",
   "execution_count": null,
   "id": "c5f9c9cc",
   "metadata": {},
   "outputs": [],
   "source": []
  }
 ],
 "metadata": {
  "kernelspec": {
   "display_name": "Python 3 (ipykernel)",
   "language": "python",
   "name": "python3"
  },
  "language_info": {
   "codemirror_mode": {
    "name": "ipython",
    "version": 3
   },
   "file_extension": ".py",
   "mimetype": "text/x-python",
   "name": "python",
   "nbconvert_exporter": "python",
   "pygments_lexer": "ipython3",
   "version": "3.9.12"
  }
 },
 "nbformat": 4,
 "nbformat_minor": 5
}
