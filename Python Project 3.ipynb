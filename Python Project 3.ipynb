{
 "cells": [
  {
   "cell_type": "markdown",
   "id": "38c96eaf",
   "metadata": {},
   "source": [
    "## 1. Why are functions advantageous to have in your programs?\n"
   ]
  },
  {
   "cell_type": "markdown",
   "id": "e390db41",
   "metadata": {},
   "source": [
    "Ans- Advantages of having function in program:\n",
    "\n",
    "    * Function allow clean and managable code to be design in program.\n",
    "    * Functions reduce the need for duplicate code. This makes programs shorter, easier to read, and easier to update."
   ]
  },
  {
   "cell_type": "markdown",
   "id": "2c7c2d05",
   "metadata": {},
   "source": [
    "## 2. When does the code in a function run: when it's specified or when it's called?\n"
   ]
  },
  {
   "cell_type": "markdown",
   "id": "5dab04b9",
   "metadata": {},
   "source": [
    "Ans-- Well, Code in the function run when it's called."
   ]
  },
  {
   "cell_type": "markdown",
   "id": "4dd6073f",
   "metadata": {},
   "source": [
    "## 3. What statement creates a function?"
   ]
  },
  {
   "cell_type": "markdown",
   "id": "fa9e26b5",
   "metadata": {},
   "source": [
    "Ans -- The def statement defines/creates a function.\n",
    "       \n",
    "    for ex-    def func():\n",
    "               pass   \n",
    "       \n",
    "\n"
   ]
  },
  {
   "cell_type": "markdown",
   "id": "36746fcb",
   "metadata": {},
   "source": [
    "\n",
    "## 4. What is the difference between a function and a function call?\n"
   ]
  },
  {
   "cell_type": "markdown",
   "id": "44ca79b8",
   "metadata": {},
   "source": [
    "Ans -- A function call is what moves the program execution into the function, and the function call evaluates to the function's       return value."
   ]
  },
  {
   "cell_type": "markdown",
   "id": "3b0606df",
   "metadata": {},
   "source": [
    "## 5. How many global scopes are there in a Python program? How many local scopes?\n"
   ]
  },
  {
   "cell_type": "markdown",
   "id": "ad34f831",
   "metadata": {},
   "source": [
    "Ans -- There's only one global Python scope per program execution.\n",
    "This scope remains in existence until the program terminates,\n",
    "and a local scope is created whenever a function is called."
   ]
  },
  {
   "cell_type": "markdown",
   "id": "c815e5ed",
   "metadata": {},
   "source": [
    "## 6. What happens to variables in a local scope when the function call returns?\n"
   ]
  },
  {
   "cell_type": "markdown",
   "id": "094c4e3f",
   "metadata": {},
   "source": [
    "Ans -- When a function returns, the local scope is destroyed.\n",
    "\n"
   ]
  },
  {
   "cell_type": "markdown",
   "id": "469c4e68",
   "metadata": {},
   "source": [
    "##  7. What is the concept of a return value? Is it possible to have a return value in an expression?"
   ]
  },
  {
   "cell_type": "markdown",
   "id": "14574bec",
   "metadata": {},
   "source": [
    "Ans -- A return value is the value that a function call evaluates to.\n",
    "       Like any value, a return value can be used as part of an expression."
   ]
  },
  {
   "cell_type": "markdown",
   "id": "7ba7228e",
   "metadata": {},
   "source": [
    "## 8. If a function does not have a return statement, what is the return value of a call to that function?"
   ]
  },
  {
   "cell_type": "markdown",
   "id": "6e2440f2",
   "metadata": {},
   "source": [
    "Ans -- If the funtion does not have a return statement it will not return anything."
   ]
  },
  {
   "cell_type": "markdown",
   "id": "0e0f57a2",
   "metadata": {},
   "source": [
    "## Q9. How do you make a function variable refer to the global variable? "
   ]
  },
  {
   "cell_type": "markdown",
   "id": "d5a4a46e",
   "metadata": {},
   "source": [
    "Ans--  To make function variable as a global variable you can use the global keyword to declare which variables are global."
   ]
  },
  {
   "cell_type": "markdown",
   "id": "51f5b1c8",
   "metadata": {},
   "source": [
    "## 10. What is the data type of None?"
   ]
  },
  {
   "cell_type": "markdown",
   "id": "2e588e6c",
   "metadata": {},
   "source": [
    "Ans -- The data type of None is NoneType. "
   ]
  },
  {
   "cell_type": "markdown",
   "id": "bdda9822",
   "metadata": {},
   "source": [
    "## 11. What does the sentence import areallyourpetsnamederic do?"
   ]
  },
  {
   "cell_type": "markdown",
   "id": "82e2e945",
   "metadata": {},
   "source": [
    "Ans-- That import statement imports a module named areallyourpetsnamederic. (But a module of this name doesnt exists in Python)"
   ]
  },
  {
   "cell_type": "markdown",
   "id": "74b0451f",
   "metadata": {},
   "source": [
    "## 12. If you had a bacon() feature in a spam module, what would you call it after importing spam?\n",
    " "
   ]
  },
  {
   "cell_type": "markdown",
   "id": "1233253f",
   "metadata": {},
   "source": [
    "Ans -- import spam \\\n",
    "         spam.bacon()"
   ]
  },
  {
   "cell_type": "markdown",
   "id": "32811675",
   "metadata": {},
   "source": [
    "## 13. What can you do to save a programme from crashing if it encounters an error?"
   ]
  },
  {
   "cell_type": "markdown",
   "id": "b0097b01",
   "metadata": {},
   "source": [
    "Ans -- We  use try except clause to save a program from crashing."
   ]
  },
  {
   "cell_type": "markdown",
   "id": "b4d07f7b",
   "metadata": {},
   "source": [
    "## 14. What is the purpose of the try clause? What is the purpose of the except clause?"
   ]
  },
  {
   "cell_type": "markdown",
   "id": "83547875",
   "metadata": {},
   "source": [
    "Ans --  Try and Except clause is used to handle the errors within our code . The try block is used to check some code for errors i.e the code inside the try block will execute when there is no error in the program. Whereas the code inside the except block will execute whenever the program encounters some error in the try block.\n",
    "\n",
    "   Eg. try:\n",
    "\n",
    "   #Code <br>\n",
    "    except:\n",
    "\n",
    "   #Executed if error in the<br>\n",
    "   #try block"
   ]
  },
  {
   "cell_type": "code",
   "execution_count": null,
   "id": "7d1f3fe4",
   "metadata": {},
   "outputs": [],
   "source": []
  }
 ],
 "metadata": {
  "kernelspec": {
   "display_name": "Python 3 (ipykernel)",
   "language": "python",
   "name": "python3"
  },
  "language_info": {
   "codemirror_mode": {
    "name": "ipython",
    "version": 3
   },
   "file_extension": ".py",
   "mimetype": "text/x-python",
   "name": "python",
   "nbconvert_exporter": "python",
   "pygments_lexer": "ipython3",
   "version": "3.9.12"
  }
 },
 "nbformat": 4,
 "nbformat_minor": 5
}
