{
 "cells": [
  {
   "cell_type": "markdown",
   "id": "54fef071",
   "metadata": {},
   "source": [
    "## 1. What is the result of the code, and why?\n",
    ">>> def func(a, b=6, c=8):\n",
    "print(a, b, c)\n",
    ">>> func(1, 2)\n"
   ]
  },
  {
   "cell_type": "code",
   "execution_count": 3,
   "id": "3c4f18b4",
   "metadata": {},
   "outputs": [
    {
     "name": "stdout",
     "output_type": "stream",
     "text": [
      "1 2 8\n"
     ]
    }
   ],
   "source": [
    "def func(a, b=6, c=8):\n",
    "\n",
    "    print(a, b, c)\n",
    "func(1, 2)\n",
    "# Ans. This funtion is taking a positional argument and 2 keyward argument. When function call m=is made, parameter passed \n",
    "  # are a=1,b=2. When the function is executed , parameter c=8 will be taken by default as its a keyword argument.\n",
    "   # solution is = 1,2,8"
   ]
  },
  {
   "cell_type": "markdown",
   "id": "b8479cf3",
   "metadata": {},
   "source": [
    "## 2. What is the result of this code, and why?\n",
    ">>> def func(a, b, c=5):\n",
    "print(a, b, c)\n",
    ">>> func(1, c=3, b=2)\n"
   ]
  },
  {
   "cell_type": "code",
   "execution_count": 4,
   "id": "eb8e500d",
   "metadata": {},
   "outputs": [
    {
     "name": "stdout",
     "output_type": "stream",
     "text": [
      "1 2 3\n"
     ]
    }
   ],
   "source": [
    "def func(a, b, c=5):\n",
    "    print(a, b, c)\n",
    "func(1, c=3, b=2)\n",
    "\n",
    "# Ans. When we make function call, order will be positional argument and then keywords arguments. we can pass the keyword arguments in any order we want.\n",
    "#Solution is 1,2,3"
   ]
  },
  {
   "cell_type": "markdown",
   "id": "c9271b2d",
   "metadata": {},
   "source": [
    "## 3. How about this code: what is its result, and why?\n",
    ">>> def func(a, *pargs):\n",
    "print(a, pargs)\n",
    ">>> func(1, 2, 3)\n"
   ]
  },
  {
   "cell_type": "code",
   "execution_count": 5,
   "id": "fb89fc46",
   "metadata": {},
   "outputs": [
    {
     "name": "stdout",
     "output_type": "stream",
     "text": [
      "1 (2, 3)\n"
     ]
    }
   ],
   "source": [
    "def func(a, *pargs):\n",
    "    print(a, pargs)\n",
    "func(1, 2, 3)\n",
    "\n",
    "# Ans.The return type of *args parameter is tuple, where as **kargs will be dictionary\n",
    "#solution is = 1,(2,3)"
   ]
  },
  {
   "cell_type": "markdown",
   "id": "1e6b5467",
   "metadata": {},
   "source": [
    "## 4. What does this code print, and why?\n",
    ">>> def func(a, **kargs):\n",
    "print(a, kargs)\n",
    ">>> func(a=1, c=3, b=2)\n"
   ]
  },
  {
   "cell_type": "code",
   "execution_count": 6,
   "id": "e4aa3968",
   "metadata": {},
   "outputs": [
    {
     "name": "stdout",
     "output_type": "stream",
     "text": [
      "1 {'c': 3, 'b': 2}\n"
     ]
    }
   ],
   "source": [
    "def func(a, **kargs):\n",
    "    print(a, kargs)\n",
    "func(a=1, c=3, b=2)\n",
    "\n",
    "#Ans. The return type of  **kargs is  dictionary\n",
    "#solution is = 1,{'c':3,'b':2}"
   ]
  },
  {
   "cell_type": "code",
   "execution_count": null,
   "id": "d70c30aa",
   "metadata": {},
   "outputs": [],
   "source": [
    "## 5. What gets printed by this, and explain?\n",
    ">>> def func(a, b, c=8, d=5): print(a, b, c, d)\n",
    ">>> func(1, *(5, 6))\n"
   ]
  },
  {
   "cell_type": "code",
   "execution_count": 7,
   "id": "efe14593",
   "metadata": {},
   "outputs": [
    {
     "name": "stdout",
     "output_type": "stream",
     "text": [
      "1 5 6 5\n"
     ]
    }
   ],
   "source": [
    "def func(a, b, c=8, d=5): \n",
    "    print(a, b, c, d)\n",
    "func(1, *(5, 6))\n",
    "\n",
    "# '*' is the unpacking operator and are operators that unpack the values from iterable objects in Python. The single \n",
    "#    asterisk operator * can be used on any iterable that Python provides, while the double asterisk operator ** can only \n",
    " #   be used on dictionaries. In the example the value *(5,6) will be unpacked and will be assigned to b and c and passed \n",
    " #   as arguments, d =5 will taken by defaults are keyword arguments.\n",
    "\n",
    "  #  Solution 1,5,6,5"
   ]
  },
  {
   "cell_type": "markdown",
   "id": "6bd03123",
   "metadata": {},
   "source": [
    "## 6. what is the result of this, and explain?\n",
    ">>> def func(a, b, c): a = 2; b[0] = 'x'; c['a'] = 'y'\n",
    ">>> l=1; m=[1]; n={'a':0}\n",
    ">>> func(l, m, n)\n",
    ">>> l, m, n\n"
   ]
  },
  {
   "cell_type": "code",
   "execution_count": 8,
   "id": "710a0dc7",
   "metadata": {},
   "outputs": [
    {
     "data": {
      "text/plain": [
       "(1, ['x'], {'a': 'y'})"
      ]
     },
     "execution_count": 8,
     "metadata": {},
     "output_type": "execute_result"
    }
   ],
   "source": [
    "def func(a, b, c): \n",
    "    a = 2; b[0] = 'x'; c['a'] = 'y'\n",
    "    \n",
    "l=1; m=[1]; n={'a':0}\n",
    "func(l, m, n)\n",
    "\n",
    "l, m, n\n",
    "\n",
    "# Ans. Here in the code, the list and dict are passed as argument, and those are mutable. Here the list l and parameter b point \n",
    "#to the same list in the memory location where as dict n and c point to the same memory location. Any updates to this \n",
    "#list will update in the memory location\n",
    "\n",
    "#l = 1 , integer values, immutable, m is list, mutable, n is dict, mutable.\n",
    "#output will be = 1,['x'],{'a':'y'}"
   ]
  },
  {
   "cell_type": "code",
   "execution_count": null,
   "id": "18cdf244",
   "metadata": {},
   "outputs": [],
   "source": []
  }
 ],
 "metadata": {
  "kernelspec": {
   "display_name": "Python 3 (ipykernel)",
   "language": "python",
   "name": "python3"
  },
  "language_info": {
   "codemirror_mode": {
    "name": "ipython",
    "version": 3
   },
   "file_extension": ".py",
   "mimetype": "text/x-python",
   "name": "python",
   "nbconvert_exporter": "python",
   "pygments_lexer": "ipython3",
   "version": "3.9.12"
  }
 },
 "nbformat": 4,
 "nbformat_minor": 5
}
